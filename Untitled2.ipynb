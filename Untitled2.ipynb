{
  "nbformat": 4,
  "nbformat_minor": 0,
  "metadata": {
    "colab": {
      "provenance": [],
      "authorship_tag": "ABX9TyN3IR1Is0ch3a+W9FK+VRcO",
      "include_colab_link": true
    },
    "kernelspec": {
      "name": "python3",
      "display_name": "Python 3"
    },
    "language_info": {
      "name": "python"
    }
  },
  "cells": [
    {
      "cell_type": "markdown",
      "metadata": {
        "id": "view-in-github",
        "colab_type": "text"
      },
      "source": [
        "<a href=\"https://colab.research.google.com/github/Iyasuhailu5/FreeCodeCamp-Pandas-Real-Life-Example/blob/master/Untitled2.ipynb\" target=\"_parent\"><img src=\"https://colab.research.google.com/assets/colab-badge.svg\" alt=\"Open In Colab\"/></a>"
      ]
    },
    {
      "cell_type": "code",
      "execution_count": 2,
      "metadata": {
        "colab": {
          "base_uri": "https://localhost:8080/"
        },
        "id": "HGltUpmbwfQ_",
        "outputId": "d065bc07-ee2b-4f98-e1a4-c02855736568"
      },
      "outputs": [
        {
          "output_type": "stream",
          "name": "stdout",
          "text": [
            "Cloning into 'freecodecamp-intro-to-numpy'...\n",
            "remote: Enumerating objects: 12, done.\u001b[K\n",
            "remote: Counting objects: 100% (7/7), done.\u001b[K\n",
            "remote: Compressing objects: 100% (4/4), done.\u001b[K\n",
            "remote: Total 12 (delta 4), reused 3 (delta 3), pack-reused 5\u001b[K\n",
            "Unpacking objects: 100% (12/12), 28.45 KiB | 2.59 MiB/s, done.\n"
          ]
        }
      ],
      "source": [
        "!git clone https://github.com/ine-rmotr-curriculum/freecodecamp-intro-to-numpy.git"
      ]
    },
    {
      "cell_type": "code",
      "source": [],
      "metadata": {
        "id": "NnCjkaQjwicQ"
      },
      "execution_count": null,
      "outputs": []
    }
  ]
}